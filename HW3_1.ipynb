{
 "cells": [
  {
   "cell_type": "markdown",
   "metadata": {},
   "source": [
    "# HW3. TextMining 수업 내용 정리\n",
    "\n",
    "# 201721506 박재형\n",
    "---\n",
    "\n",
    "## Text mining의 순서\n",
    "\n",
    "1. 분석하고자 하는 Text가 담긴 Document를 준비한다.\n",
    "2. tokenize(parse with words) / normalize\n",
    "3. 2의 단계로 생긴 sequence를 분석에 활용한다.\n",
    "    - **Fixed size vector, without** sequence info\n",
    "        - Naive Bayes\n",
    "        - Decision Tree, SVM\n",
    "        - Logistic Regression, MLP\n",
    "    - **Fixed size vector, with** sequence info\n",
    "        - Decision Tree, SVM\n",
    "        - Logistic Regression, MLP\n",
    "    - **Series of Word Embedding with** sequence info\n",
    "        - RNN, BERT"
   ]
  },
  {
   "cell_type": "markdown",
   "metadata": {},
   "source": [
    "### Tokenizing\n",
    "- 예제 문장: I have a notebook."
   ]
  },
  {
   "cell_type": "code",
   "execution_count": 9,
   "metadata": {},
   "outputs": [],
   "source": [
    "from tokenizer import split_into_sentences"
   ]
  },
  {
   "cell_type": "code",
   "execution_count": 18,
   "metadata": {},
   "outputs": [],
   "source": [
    "ex_sentence = \"I have a noteboook.\"\n",
    "\n",
    "tokenized = split_into_sentences(ex_sentence)"
   ]
  },
  {
   "cell_type": "code",
   "execution_count": 19,
   "metadata": {},
   "outputs": [
    {
     "name": "stdout",
     "output_type": "stream",
     "text": [
      "I, have, a, noteboook, .\n"
     ]
    }
   ],
   "source": [
    "for sentence in tokenized:\n",
    "    tokens = sentence.split()\n",
    "    print(\", \".join(tokens))"
   ]
  },
  {
   "cell_type": "markdown",
   "metadata": {},
   "source": [
    "### Normalization\n",
    "\n",
    "- Stemming: 어간 추출"
   ]
  },
  {
   "cell_type": "code",
   "execution_count": 77,
   "metadata": {},
   "outputs": [],
   "source": [
    "ex_sentence = \"This was not the map we found in Billy Bones's chest, but an accurate copy, complete in all things\""
   ]
  },
  {
   "cell_type": "code",
   "execution_count": 78,
   "metadata": {},
   "outputs": [
    {
     "data": {
      "text/plain": [
       "\"this was not the map we found in billy bones's chest, but an accurate copy, complete in all th\""
      ]
     },
     "execution_count": 78,
     "metadata": {},
     "output_type": "execute_result"
    }
   ],
   "source": [
    "import nltk\n",
    "from nltk.stem import PorterStemmer\n",
    "porter = PorterStemmer()\n",
    "porter.stem(ex_sentence)"
   ]
  },
  {
   "cell_type": "markdown",
   "metadata": {},
   "source": [
    "- Lemmatization: 표제어 추출"
   ]
  },
  {
   "cell_type": "code",
   "execution_count": 79,
   "metadata": {},
   "outputs": [],
   "source": [
    "from nltk.stem import WordNetLemmatizer\n",
    "wordnet_lemmatizer = WordNetLemmatizer()"
   ]
  },
  {
   "cell_type": "code",
   "execution_count": 84,
   "metadata": {},
   "outputs": [],
   "source": [
    "#nltk.download('punkt')"
   ]
  },
  {
   "cell_type": "code",
   "execution_count": 87,
   "metadata": {},
   "outputs": [
    {
     "name": "stdout",
     "output_type": "stream",
     "text": [
      "This\n",
      "be\n",
      "not\n",
      "the\n",
      "map\n",
      "we\n",
      "find\n",
      "in\n",
      "Billy\n",
      "Bones\n",
      "'s\n",
      "chest\n",
      "but\n",
      "an\n",
      "accurate\n",
      "copy\n",
      "complete\n",
      "in\n",
      "all\n",
      "things\n"
     ]
    }
   ],
   "source": [
    "punctuations=\"?:!.,;\"\n",
    "sentence_words = nltk.word_tokenize(ex_sentence)\n",
    "for word in sentence_words:\n",
    "    if word in punctuations:\n",
    "        sentence_words.remove(word)\n",
    "\n",
    "sentence_words\n",
    "for word in sentence_words:\n",
    "    print (wordnet_lemmatizer.lemmatize(word, pos = \"v\"))"
   ]
  },
  {
   "cell_type": "markdown",
   "metadata": {},
   "source": [
    "## BOW (Bag of Words)\n",
    "- 문서를 BOW로 표현한다는 것은, 단어가 쓰여진 순서를 무시하고 count vector로 표현한다는 것이다.\n",
    "- count vector의 count(빈도)가 weight가 된다."
   ]
  },
  {
   "cell_type": "code",
   "execution_count": 92,
   "metadata": {},
   "outputs": [
    {
     "name": "stdout",
     "output_type": "stream",
     "text": [
      "[[1 1 1 2 2 1]]\n",
      "{'it': 4, 'is': 3, 'puppy': 5, 'and': 0, 'extremely': 2, 'cute': 1}\n"
     ]
    }
   ],
   "source": [
    "from sklearn.feature_extraction.text import CountVectorizer\n",
    "corpus = ['it is a puppy and it is extremely cute']\n",
    "vector = CountVectorizer()\n",
    "print(vector.fit_transform(corpus).toarray()) # 코퍼스로부터 각 단어의 빈도 수를 기록한다.\n",
    "print(vector.vocabulary_) # 각 단어의 인덱스가 어떻게 부여되었는지를 보여준다."
   ]
  }
 ],
 "metadata": {
  "kernelspec": {
   "display_name": "Python 3",
   "language": "python",
   "name": "python3"
  },
  "language_info": {
   "codemirror_mode": {
    "name": "ipython",
    "version": 3
   },
   "file_extension": ".py",
   "mimetype": "text/x-python",
   "name": "python",
   "nbconvert_exporter": "python",
   "pygments_lexer": "ipython3",
   "version": "3.7.6"
  }
 },
 "nbformat": 4,
 "nbformat_minor": 4
}
